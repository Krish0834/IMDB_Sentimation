{
 "cells": [
  {
   "cell_type": "code",
   "execution_count": 2,
   "metadata": {},
   "outputs": [],
   "source": [
    "# Step 1: Import Libraries and load the model\n",
    "import numpy as np \n",
    "import tensorflow as tf\n",
    "from tensorflow.keras.datasets import imdb \n",
    "from tensorflow.keras.preprocessing import sequence\n",
    "from tensorflow.keras.models import load_model"
   ]
  },
  {
   "cell_type": "code",
   "execution_count": 9,
   "metadata": {},
   "outputs": [],
   "source": [
    "word_index=imdb.get_word_index()\n",
    "reverse_word_index={value:key for key,value in word_index.items()}"
   ]
  },
  {
   "cell_type": "code",
   "execution_count": 10,
   "metadata": {},
   "outputs": [
    {
     "name": "stderr",
     "output_type": "stream",
     "text": [
      "WARNING:absl:Compiled the loaded model, but the compiled metrics have yet to be built. `model.compile_metrics` will be empty until you train or evaluate the model.\n"
     ]
    },
    {
     "data": {
      "text/html": [
       "<pre style=\"white-space:pre;overflow-x:auto;line-height:normal;font-family:Menlo,'DejaVu Sans Mono',consolas,'Courier New',monospace\"><span style=\"font-weight: bold\">Model: \"sequential\"</span>\n",
       "</pre>\n"
      ],
      "text/plain": [
       "\u001b[1mModel: \"sequential\"\u001b[0m\n"
      ]
     },
     "metadata": {},
     "output_type": "display_data"
    },
    {
     "data": {
      "text/html": [
       "<pre style=\"white-space:pre;overflow-x:auto;line-height:normal;font-family:Menlo,'DejaVu Sans Mono',consolas,'Courier New',monospace\">┏━━━━━━━━━━━━━━━━━━━━━━━━━━━━━━━━━┳━━━━━━━━━━━━━━━━━━━━━━━━┳━━━━━━━━━━━━━━━┓\n",
       "┃<span style=\"font-weight: bold\"> Layer (type)                    </span>┃<span style=\"font-weight: bold\"> Output Shape           </span>┃<span style=\"font-weight: bold\">       Param # </span>┃\n",
       "┡━━━━━━━━━━━━━━━━━━━━━━━━━━━━━━━━━╇━━━━━━━━━━━━━━━━━━━━━━━━╇━━━━━━━━━━━━━━━┩\n",
       "│ embedding (<span style=\"color: #0087ff; text-decoration-color: #0087ff\">Embedding</span>)           │ (<span style=\"color: #00af00; text-decoration-color: #00af00\">32</span>, <span style=\"color: #00af00; text-decoration-color: #00af00\">500</span>, <span style=\"color: #00af00; text-decoration-color: #00af00\">128</span>)         │     <span style=\"color: #00af00; text-decoration-color: #00af00\">1,280,000</span> │\n",
       "├─────────────────────────────────┼────────────────────────┼───────────────┤\n",
       "│ simple_rnn (<span style=\"color: #0087ff; text-decoration-color: #0087ff\">SimpleRNN</span>)          │ (<span style=\"color: #00af00; text-decoration-color: #00af00\">32</span>, <span style=\"color: #00af00; text-decoration-color: #00af00\">128</span>)              │        <span style=\"color: #00af00; text-decoration-color: #00af00\">32,896</span> │\n",
       "├─────────────────────────────────┼────────────────────────┼───────────────┤\n",
       "│ dense (<span style=\"color: #0087ff; text-decoration-color: #0087ff\">Dense</span>)                   │ (<span style=\"color: #00af00; text-decoration-color: #00af00\">32</span>, <span style=\"color: #00af00; text-decoration-color: #00af00\">1</span>)                │           <span style=\"color: #00af00; text-decoration-color: #00af00\">129</span> │\n",
       "└─────────────────────────────────┴────────────────────────┴───────────────┘\n",
       "</pre>\n"
      ],
      "text/plain": [
       "┏━━━━━━━━━━━━━━━━━━━━━━━━━━━━━━━━━┳━━━━━━━━━━━━━━━━━━━━━━━━┳━━━━━━━━━━━━━━━┓\n",
       "┃\u001b[1m \u001b[0m\u001b[1mLayer (type)                   \u001b[0m\u001b[1m \u001b[0m┃\u001b[1m \u001b[0m\u001b[1mOutput Shape          \u001b[0m\u001b[1m \u001b[0m┃\u001b[1m \u001b[0m\u001b[1m      Param #\u001b[0m\u001b[1m \u001b[0m┃\n",
       "┡━━━━━━━━━━━━━━━━━━━━━━━━━━━━━━━━━╇━━━━━━━━━━━━━━━━━━━━━━━━╇━━━━━━━━━━━━━━━┩\n",
       "│ embedding (\u001b[38;5;33mEmbedding\u001b[0m)           │ (\u001b[38;5;34m32\u001b[0m, \u001b[38;5;34m500\u001b[0m, \u001b[38;5;34m128\u001b[0m)         │     \u001b[38;5;34m1,280,000\u001b[0m │\n",
       "├─────────────────────────────────┼────────────────────────┼───────────────┤\n",
       "│ simple_rnn (\u001b[38;5;33mSimpleRNN\u001b[0m)          │ (\u001b[38;5;34m32\u001b[0m, \u001b[38;5;34m128\u001b[0m)              │        \u001b[38;5;34m32,896\u001b[0m │\n",
       "├─────────────────────────────────┼────────────────────────┼───────────────┤\n",
       "│ dense (\u001b[38;5;33mDense\u001b[0m)                   │ (\u001b[38;5;34m32\u001b[0m, \u001b[38;5;34m1\u001b[0m)                │           \u001b[38;5;34m129\u001b[0m │\n",
       "└─────────────────────────────────┴────────────────────────┴───────────────┘\n"
      ]
     },
     "metadata": {},
     "output_type": "display_data"
    },
    {
     "data": {
      "text/html": [
       "<pre style=\"white-space:pre;overflow-x:auto;line-height:normal;font-family:Menlo,'DejaVu Sans Mono',consolas,'Courier New',monospace\"><span style=\"font-weight: bold\"> Total params: </span><span style=\"color: #00af00; text-decoration-color: #00af00\">1,313,027</span> (5.01 MB)\n",
       "</pre>\n"
      ],
      "text/plain": [
       "\u001b[1m Total params: \u001b[0m\u001b[38;5;34m1,313,027\u001b[0m (5.01 MB)\n"
      ]
     },
     "metadata": {},
     "output_type": "display_data"
    },
    {
     "data": {
      "text/html": [
       "<pre style=\"white-space:pre;overflow-x:auto;line-height:normal;font-family:Menlo,'DejaVu Sans Mono',consolas,'Courier New',monospace\"><span style=\"font-weight: bold\"> Trainable params: </span><span style=\"color: #00af00; text-decoration-color: #00af00\">1,313,025</span> (5.01 MB)\n",
       "</pre>\n"
      ],
      "text/plain": [
       "\u001b[1m Trainable params: \u001b[0m\u001b[38;5;34m1,313,025\u001b[0m (5.01 MB)\n"
      ]
     },
     "metadata": {},
     "output_type": "display_data"
    },
    {
     "data": {
      "text/html": [
       "<pre style=\"white-space:pre;overflow-x:auto;line-height:normal;font-family:Menlo,'DejaVu Sans Mono',consolas,'Courier New',monospace\"><span style=\"font-weight: bold\"> Non-trainable params: </span><span style=\"color: #00af00; text-decoration-color: #00af00\">0</span> (0.00 B)\n",
       "</pre>\n"
      ],
      "text/plain": [
       "\u001b[1m Non-trainable params: \u001b[0m\u001b[38;5;34m0\u001b[0m (0.00 B)\n"
      ]
     },
     "metadata": {},
     "output_type": "display_data"
    },
    {
     "data": {
      "text/html": [
       "<pre style=\"white-space:pre;overflow-x:auto;line-height:normal;font-family:Menlo,'DejaVu Sans Mono',consolas,'Courier New',monospace\"><span style=\"font-weight: bold\"> Optimizer params: </span><span style=\"color: #00af00; text-decoration-color: #00af00\">2</span> (12.00 B)\n",
       "</pre>\n"
      ],
      "text/plain": [
       "\u001b[1m Optimizer params: \u001b[0m\u001b[38;5;34m2\u001b[0m (12.00 B)\n"
      ]
     },
     "metadata": {},
     "output_type": "display_data"
    }
   ],
   "source": [
    "model = load_model('simple_rnn_imdb.h5')\n",
    "model.summary()"
   ]
  },
  {
   "cell_type": "code",
   "execution_count": 11,
   "metadata": {},
   "outputs": [
    {
     "data": {
      "text/plain": [
       "[array([[ 1.4178392e-01,  6.4842653e-01,  1.8793702e-01, ...,\n",
       "         -6.8862677e-01, -4.6166241e-01,  3.7435821e-01],\n",
       "        [ 4.0746696e-02,  2.0796355e-02, -3.5577543e-02, ...,\n",
       "         -1.6697332e-02, -7.5556040e-02,  7.7435412e-02],\n",
       "        [ 2.9320251e-02,  8.4859774e-02,  9.9630944e-02, ...,\n",
       "         -4.3844212e-02, -9.9477932e-02,  5.9560657e-04],\n",
       "        ...,\n",
       "        [ 2.8999258e-02, -1.0524360e-02,  3.9999846e-02, ...,\n",
       "         -7.9440959e-03,  4.5142636e-02, -8.8263629e-04],\n",
       "        [-1.3721096e-02,  1.3055585e-01,  5.3400140e-02, ...,\n",
       "         -1.2326346e-01, -5.1079258e-02, -5.0061081e-02],\n",
       "        [ 2.6862964e-02, -1.2571774e-01, -1.5232711e-01, ...,\n",
       "          6.0514674e-02,  1.2443548e-01,  2.4609100e-02]], dtype=float32),\n",
       " array([[ 0.09388855,  0.07826367,  0.04315754, ..., -0.02438354,\n",
       "          0.00691181,  0.03029392],\n",
       "        [ 0.02782874, -0.15081072, -0.08324428, ..., -0.16554347,\n",
       "          0.03264927,  0.08355503],\n",
       "        [-0.15175661, -0.08937648,  0.14909437, ..., -0.09885447,\n",
       "         -0.04143729, -0.1595757 ],\n",
       "        ...,\n",
       "        [-0.01079811, -0.1209326 , -0.01914177, ...,  0.00533366,\n",
       "          0.04899254,  0.02409844],\n",
       "        [ 0.04409974, -0.09865132,  0.0132298 , ...,  0.0159667 ,\n",
       "          0.1815013 , -0.02530386],\n",
       "        [ 0.0327563 , -0.1283302 , -0.17686097, ..., -0.15750557,\n",
       "          0.0337595 ,  0.14390981]], dtype=float32),\n",
       " array([[ 0.07717653, -0.10361058,  0.17496282, ...,  0.02090518,\n",
       "          0.01455818, -0.18748939],\n",
       "        [ 0.04047138,  0.01128082,  0.00989473, ...,  0.09192252,\n",
       "         -0.0395803 , -0.07477145],\n",
       "        [-0.04712481, -0.04741873, -0.02370604, ..., -0.06974256,\n",
       "          0.11389064,  0.07004885],\n",
       "        ...,\n",
       "        [-0.09627506, -0.17755637,  0.01889285, ...,  0.06234924,\n",
       "         -0.05046215,  0.04450689],\n",
       "        [-0.17261389,  0.00658946, -0.13158703, ..., -0.00386884,\n",
       "         -0.12666225,  0.0103897 ],\n",
       "        [-0.06412497,  0.02221443,  0.08205847, ...,  0.22365014,\n",
       "         -0.02348798, -0.0606694 ]], dtype=float32),\n",
       " array([-0.04190465,  0.02644518,  0.01716644, -0.00145456, -0.02031666,\n",
       "        -0.02505834,  0.03660809,  0.02651689,  0.01660655, -0.0260847 ,\n",
       "         0.00224241, -0.06809065, -0.03899726,  0.00890261, -0.02067001,\n",
       "        -0.04213195, -0.02132938, -0.02094907,  0.00119298, -0.03134128,\n",
       "        -0.02791342, -0.01609772, -0.0271764 , -0.03615862,  0.01738584,\n",
       "         0.04510087, -0.05369015,  0.01665222, -0.03184072,  0.02762034,\n",
       "        -0.08591842, -0.02301866, -0.00254483,  0.00205392,  0.02765947,\n",
       "         0.01742949, -0.04196521, -0.00768914, -0.00809685, -0.04071869,\n",
       "         0.02554372, -0.0008943 , -0.03533852, -0.05894665, -0.02885884,\n",
       "        -0.02754668,  0.00507564, -0.00947742,  0.00791989, -0.01872611,\n",
       "        -0.02341694, -0.05345441,  0.00328964, -0.03916785, -0.01000893,\n",
       "        -0.0069272 , -0.03515666,  0.02607042,  0.03057639,  0.01296005,\n",
       "         0.01413604, -0.02953914, -0.00812703,  0.01030714,  0.00499412,\n",
       "         0.04968852, -0.01814991, -0.02195833, -0.02167247,  0.01659901,\n",
       "         0.0157245 , -0.0217659 ,  0.00583047, -0.00352379, -0.01940766,\n",
       "        -0.02024385,  0.00986359,  0.01187878,  0.04567519,  0.00371018,\n",
       "        -0.04284031, -0.02077023, -0.02512077,  0.04875788, -0.03201272,\n",
       "         0.01788355, -0.00371696,  0.03836401, -0.02782298, -0.05635742,\n",
       "        -0.03860046, -0.00217534, -0.04223429, -0.01571993, -0.03812477,\n",
       "        -0.05339775, -0.0177692 , -0.02340698, -0.0289601 , -0.02666304,\n",
       "         0.04797656, -0.0158697 ,  0.02858783, -0.02343725, -0.04374847,\n",
       "        -0.01053132, -0.02832297, -0.00219932, -0.01527842,  0.00996256,\n",
       "         0.00110895, -0.01004531, -0.02761697, -0.05347404, -0.00778066,\n",
       "        -0.01446292, -0.01866498,  0.01248175, -0.05014534, -0.02093983,\n",
       "        -0.02406996,  0.01352813, -0.0415665 ,  0.01509791, -0.02026627,\n",
       "        -0.04469176, -0.01375717, -0.01764161], dtype=float32),\n",
       " array([[ 0.04015673],\n",
       "        [ 0.15511876],\n",
       "        [-0.06167886],\n",
       "        [-0.1370208 ],\n",
       "        [-0.04756912],\n",
       "        [ 0.04443689],\n",
       "        [ 0.25686163],\n",
       "        [ 0.19732901],\n",
       "        [ 0.15149988],\n",
       "        [ 0.04808487],\n",
       "        [-0.18432574],\n",
       "        [ 0.05524604],\n",
       "        [-0.16918136],\n",
       "        [-0.40437844],\n",
       "        [ 0.25721562],\n",
       "        [-0.04689607],\n",
       "        [-0.07905512],\n",
       "        [-0.13708346],\n",
       "        [ 0.14987345],\n",
       "        [-0.01489889],\n",
       "        [ 0.14865315],\n",
       "        [-0.02174655],\n",
       "        [-0.03518616],\n",
       "        [ 0.10189036],\n",
       "        [ 0.25582415],\n",
       "        [-0.21294874],\n",
       "        [-0.01948632],\n",
       "        [ 0.11787769],\n",
       "        [-0.04477225],\n",
       "        [-0.11482263],\n",
       "        [ 0.0552245 ],\n",
       "        [-0.25018978],\n",
       "        [-0.17275468],\n",
       "        [-0.11116226],\n",
       "        [ 0.20206988],\n",
       "        [ 0.14047928],\n",
       "        [-0.09043719],\n",
       "        [-0.12903462],\n",
       "        [-0.17852391],\n",
       "        [-0.0689427 ],\n",
       "        [-0.04697596],\n",
       "        [-0.11204284],\n",
       "        [ 0.115116  ],\n",
       "        [ 0.19657546],\n",
       "        [ 0.23659842],\n",
       "        [-0.11752591],\n",
       "        [ 0.36961168],\n",
       "        [-0.08313546],\n",
       "        [ 0.03505273],\n",
       "        [-0.1282903 ],\n",
       "        [ 0.11874839],\n",
       "        [ 0.19489674],\n",
       "        [-0.07582023],\n",
       "        [-0.02140333],\n",
       "        [-0.10720095],\n",
       "        [ 0.06983002],\n",
       "        [-0.15635262],\n",
       "        [ 0.083537  ],\n",
       "        [ 0.02893331],\n",
       "        [-0.06007084],\n",
       "        [-0.0374308 ],\n",
       "        [-0.23263097],\n",
       "        [ 0.35767785],\n",
       "        [ 0.11311261],\n",
       "        [ 0.02072461],\n",
       "        [ 0.1000783 ],\n",
       "        [ 0.19915864],\n",
       "        [ 0.01563189],\n",
       "        [ 0.2075236 ],\n",
       "        [ 0.07170181],\n",
       "        [ 0.1345616 ],\n",
       "        [ 0.01404218],\n",
       "        [-0.02680752],\n",
       "        [ 0.13111089],\n",
       "        [-0.15089425],\n",
       "        [ 0.20126033],\n",
       "        [ 0.07739941],\n",
       "        [-0.16886   ],\n",
       "        [-0.08713716],\n",
       "        [-0.0890959 ],\n",
       "        [-0.06709887],\n",
       "        [-0.24634703],\n",
       "        [ 0.00962972],\n",
       "        [-0.23604588],\n",
       "        [ 0.16289988],\n",
       "        [ 0.02277468],\n",
       "        [-0.14815068],\n",
       "        [ 0.04529966],\n",
       "        [ 0.12878206],\n",
       "        [-0.1744123 ],\n",
       "        [-0.03537444],\n",
       "        [-0.00179648],\n",
       "        [-0.09713333],\n",
       "        [-0.2288923 ],\n",
       "        [-0.08613168],\n",
       "        [-0.0033521 ],\n",
       "        [-0.18645926],\n",
       "        [-0.16307019],\n",
       "        [-0.02166414],\n",
       "        [-0.0179797 ],\n",
       "        [ 0.1280215 ],\n",
       "        [ 0.01820723],\n",
       "        [ 0.18131647],\n",
       "        [ 0.11526043],\n",
       "        [ 0.01570888],\n",
       "        [ 0.21154994],\n",
       "        [ 0.07246096],\n",
       "        [-0.00932722],\n",
       "        [-0.1570759 ],\n",
       "        [-0.12553583],\n",
       "        [-0.12469734],\n",
       "        [-0.19463687],\n",
       "        [ 0.1572144 ],\n",
       "        [-0.07460974],\n",
       "        [-0.21417543],\n",
       "        [ 0.10902502],\n",
       "        [ 0.15621568],\n",
       "        [ 0.17430133],\n",
       "        [-0.12502618],\n",
       "        [-0.117725  ],\n",
       "        [-0.16176349],\n",
       "        [ 0.09921382],\n",
       "        [ 0.24900824],\n",
       "        [ 0.23500869],\n",
       "        [ 0.10791847],\n",
       "        [-0.11052986],\n",
       "        [-0.26970276],\n",
       "        [ 0.06379402]], dtype=float32),\n",
       " array([0.00426881], dtype=float32)]"
      ]
     },
     "execution_count": 11,
     "metadata": {},
     "output_type": "execute_result"
    }
   ],
   "source": [
    "model.get_weights()"
   ]
  },
  {
   "cell_type": "code",
   "execution_count": 12,
   "metadata": {},
   "outputs": [],
   "source": [
    "# Step2: helpher function\n",
    "#Function to decode reviews\n",
    "def decode_review(encoded_review):\n",
    "    return ' '.join ([reverse_word_index.get(i-3,'?')for i in encoded_review])\n",
    "\n",
    "#Function to preprocess user input\n",
    "def preprocess_text(text):\n",
    "    words =  text.lower().split()\n",
    "    encoded_review = [word_index.get(word, 2)+ 3 for word in words]\n",
    "    padded_review = sequence.pad_sequences([encoded_review], maxlen=500)\n",
    "    return padded_review"
   ]
  },
  {
   "cell_type": "code",
   "execution_count": 13,
   "metadata": {},
   "outputs": [],
   "source": [
    "#Prediction function\n",
    "def predict_sentiment(review):\n",
    "    preprocessed_input=preprocess_text(review)\n",
    "\n",
    "    prediction=model.predict(preprocessed_input)\n",
    "    sentiment = 'Positive' if prediction[0][0] > 0.5 else 'Negative'\n",
    "    return sentiment,prediction[0][0]"
   ]
  },
  {
   "cell_type": "code",
   "execution_count": 14,
   "metadata": {},
   "outputs": [
    {
     "name": "stdout",
     "output_type": "stream",
     "text": [
      "\u001b[1m1/1\u001b[0m \u001b[32m━━━━━━━━━━━━━━━━━━━━\u001b[0m\u001b[37m\u001b[0m \u001b[1m0s\u001b[0m 401ms/step\n",
      "Review: This movie was fantatic! The acting was great and plot was thrilling\n",
      "Sentiment:Negative\n",
      "Prediction Score:5.839172700916606e-08\n"
     ]
    }
   ],
   "source": [
    "#Step 4: User Input and Prediction\n",
    "# Example review for prediction\n",
    "example_review = \"This movie was fantatic! The acting was great and plot was thrilling\"\n",
    "\n",
    "sentiment,score=predict_sentiment(example_review)\n",
    "\n",
    "print(f'Review: {example_review}')\n",
    "print(f'Sentiment:{sentiment}')\n",
    "print(f'Prediction Score:{score}')"
   ]
  },
  {
   "cell_type": "code",
   "execution_count": null,
   "metadata": {},
   "outputs": [],
   "source": []
  },
  {
   "cell_type": "code",
   "execution_count": null,
   "metadata": {},
   "outputs": [],
   "source": []
  },
  {
   "cell_type": "code",
   "execution_count": null,
   "metadata": {},
   "outputs": [],
   "source": []
  },
  {
   "cell_type": "code",
   "execution_count": null,
   "metadata": {},
   "outputs": [],
   "source": []
  },
  {
   "cell_type": "code",
   "execution_count": null,
   "metadata": {},
   "outputs": [],
   "source": []
  },
  {
   "cell_type": "code",
   "execution_count": null,
   "metadata": {},
   "outputs": [],
   "source": []
  },
  {
   "cell_type": "code",
   "execution_count": null,
   "metadata": {},
   "outputs": [],
   "source": []
  },
  {
   "cell_type": "code",
   "execution_count": null,
   "metadata": {},
   "outputs": [],
   "source": []
  },
  {
   "cell_type": "code",
   "execution_count": null,
   "metadata": {},
   "outputs": [],
   "source": []
  },
  {
   "cell_type": "code",
   "execution_count": null,
   "metadata": {},
   "outputs": [],
   "source": []
  },
  {
   "cell_type": "code",
   "execution_count": null,
   "metadata": {},
   "outputs": [],
   "source": []
  },
  {
   "cell_type": "code",
   "execution_count": null,
   "metadata": {},
   "outputs": [],
   "source": []
  },
  {
   "cell_type": "code",
   "execution_count": null,
   "metadata": {},
   "outputs": [],
   "source": []
  },
  {
   "cell_type": "code",
   "execution_count": null,
   "metadata": {},
   "outputs": [],
   "source": []
  },
  {
   "cell_type": "code",
   "execution_count": null,
   "metadata": {},
   "outputs": [],
   "source": []
  },
  {
   "cell_type": "code",
   "execution_count": null,
   "metadata": {},
   "outputs": [],
   "source": []
  },
  {
   "cell_type": "code",
   "execution_count": null,
   "metadata": {},
   "outputs": [],
   "source": []
  },
  {
   "cell_type": "code",
   "execution_count": null,
   "metadata": {},
   "outputs": [],
   "source": []
  },
  {
   "cell_type": "code",
   "execution_count": null,
   "metadata": {},
   "outputs": [],
   "source": []
  },
  {
   "cell_type": "code",
   "execution_count": null,
   "metadata": {},
   "outputs": [],
   "source": []
  },
  {
   "cell_type": "code",
   "execution_count": null,
   "metadata": {},
   "outputs": [],
   "source": []
  },
  {
   "cell_type": "code",
   "execution_count": null,
   "metadata": {},
   "outputs": [],
   "source": []
  },
  {
   "cell_type": "code",
   "execution_count": null,
   "metadata": {},
   "outputs": [],
   "source": []
  },
  {
   "cell_type": "code",
   "execution_count": null,
   "metadata": {},
   "outputs": [],
   "source": []
  },
  {
   "cell_type": "code",
   "execution_count": null,
   "metadata": {},
   "outputs": [],
   "source": []
  },
  {
   "cell_type": "code",
   "execution_count": null,
   "metadata": {},
   "outputs": [],
   "source": []
  },
  {
   "cell_type": "code",
   "execution_count": null,
   "metadata": {},
   "outputs": [],
   "source": []
  },
  {
   "cell_type": "code",
   "execution_count": null,
   "metadata": {},
   "outputs": [],
   "source": []
  },
  {
   "cell_type": "code",
   "execution_count": null,
   "metadata": {},
   "outputs": [],
   "source": []
  },
  {
   "cell_type": "code",
   "execution_count": null,
   "metadata": {},
   "outputs": [],
   "source": []
  },
  {
   "cell_type": "code",
   "execution_count": null,
   "metadata": {},
   "outputs": [],
   "source": []
  }
 ],
 "metadata": {
  "kernelspec": {
   "display_name": "Python 3",
   "language": "python",
   "name": "python3"
  },
  "language_info": {
   "codemirror_mode": {
    "name": "ipython",
    "version": 3
   },
   "file_extension": ".py",
   "mimetype": "text/x-python",
   "name": "python",
   "nbconvert_exporter": "python",
   "pygments_lexer": "ipython3",
   "version": "3.11.0"
  }
 },
 "nbformat": 4,
 "nbformat_minor": 2
}
