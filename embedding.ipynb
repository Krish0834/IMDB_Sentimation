{
 "cells": [
  {
   "cell_type": "code",
   "execution_count": 4,
   "metadata": {},
   "outputs": [],
   "source": [
    "from tensorflow.keras.preprocessing.text import one_hot"
   ]
  },
  {
   "cell_type": "code",
   "execution_count": 5,
   "metadata": {},
   "outputs": [],
   "source": [
    "sent=[ 'Brave warriors never back down',\n",
    "'Cloud formations changed with the wind',\n",
    "'Light filled the room at dawn',\n",
    "'Sharp minds solve problems quickly',\n",
    "'Flame flickered in the dark cave',]"
   ]
  },
  {
   "cell_type": "code",
   "execution_count": 6,
   "metadata": {},
   "outputs": [],
   "source": [
    "#Define the vocabulary size\n",
    "voc_size=10000"
   ]
  },
  {
   "cell_type": "code",
   "execution_count": 7,
   "metadata": {},
   "outputs": [
    {
     "data": {
      "text/plain": [
       "[[3067, 3480, 8550, 1828, 8692],\n",
       " [1367, 8945, 5015, 9045, 7529, 5929],\n",
       " [8290, 5180, 7529, 3166, 3238, 9766],\n",
       " [4450, 2792, 9896, 4025, 1207],\n",
       " [9914, 2708, 5579, 7529, 3022, 3964]]"
      ]
     },
     "execution_count": 7,
     "metadata": {},
     "output_type": "execute_result"
    }
   ],
   "source": [
    "### One hot representation\n",
    "one_hot_repr=[one_hot(words,voc_size)for words in sent]\n",
    "one_hot_repr"
   ]
  },
  {
   "cell_type": "code",
   "execution_count": 8,
   "metadata": {},
   "outputs": [],
   "source": [
    "##Word Embedding representation\n",
    "from tensorflow.keras.layers import Embedding\n",
    "#from tensorflow.keras.processing.sequence import pad_sequences\n",
    "from tensorflow.keras.utils import pad_sequences\n",
    "from tensorflow.keras.models import Sequential"
   ]
  },
  {
   "cell_type": "code",
   "execution_count": 9,
   "metadata": {},
   "outputs": [],
   "source": [
    "import numpy as np"
   ]
  },
  {
   "cell_type": "code",
   "execution_count": 10,
   "metadata": {},
   "outputs": [
    {
     "name": "stdout",
     "output_type": "stream",
     "text": [
      "[[   0    0    0 3067 3480 8550 1828 8692]\n",
      " [   0    0 1367 8945 5015 9045 7529 5929]\n",
      " [   0    0 8290 5180 7529 3166 3238 9766]\n",
      " [   0    0    0 4450 2792 9896 4025 1207]\n",
      " [   0    0 9914 2708 5579 7529 3022 3964]]\n"
     ]
    }
   ],
   "source": [
    "sent_length=8\n",
    "embedded_docs=pad_sequences(one_hot_repr,padding='pre',maxlen=sent_length)\n",
    "print(embedded_docs)"
   ]
  },
  {
   "cell_type": "code",
   "execution_count": 11,
   "metadata": {},
   "outputs": [],
   "source": [
    "##feature reprresentation\n",
    "dim=10"
   ]
  },
  {
   "cell_type": "code",
   "execution_count": 12,
   "metadata": {},
   "outputs": [
    {
     "name": "stderr",
     "output_type": "stream",
     "text": [
      "c:\\ann classification\\venv\\Lib\\site-packages\\keras\\src\\layers\\core\\embedding.py:90: UserWarning: Argument `input_length` is deprecated. Just remove it.\n",
      "  warnings.warn(\n"
     ]
    }
   ],
   "source": [
    "model=Sequential()\n",
    "model.add(Embedding(voc_size,dim,input_length=sent_length))\n",
    "model.compile('adam','mse')"
   ]
  },
  {
   "cell_type": "code",
   "execution_count": 13,
   "metadata": {},
   "outputs": [
    {
     "data": {
      "text/html": [
       "<pre style=\"white-space:pre;overflow-x:auto;line-height:normal;font-family:Menlo,'DejaVu Sans Mono',consolas,'Courier New',monospace\"><span style=\"font-weight: bold\">Model: \"sequential\"</span>\n",
       "</pre>\n"
      ],
      "text/plain": [
       "\u001b[1mModel: \"sequential\"\u001b[0m\n"
      ]
     },
     "metadata": {},
     "output_type": "display_data"
    },
    {
     "data": {
      "text/html": [
       "<pre style=\"white-space:pre;overflow-x:auto;line-height:normal;font-family:Menlo,'DejaVu Sans Mono',consolas,'Courier New',monospace\">┏━━━━━━━━━━━━━━━━━━━━━━━━━━━━━━━━━┳━━━━━━━━━━━━━━━━━━━━━━━━┳━━━━━━━━━━━━━━━┓\n",
       "┃<span style=\"font-weight: bold\"> Layer (type)                    </span>┃<span style=\"font-weight: bold\"> Output Shape           </span>┃<span style=\"font-weight: bold\">       Param # </span>┃\n",
       "┡━━━━━━━━━━━━━━━━━━━━━━━━━━━━━━━━━╇━━━━━━━━━━━━━━━━━━━━━━━━╇━━━━━━━━━━━━━━━┩\n",
       "│ embedding (<span style=\"color: #0087ff; text-decoration-color: #0087ff\">Embedding</span>)           │ ?                      │   <span style=\"color: #00af00; text-decoration-color: #00af00\">0</span> (unbuilt) │\n",
       "└─────────────────────────────────┴────────────────────────┴───────────────┘\n",
       "</pre>\n"
      ],
      "text/plain": [
       "┏━━━━━━━━━━━━━━━━━━━━━━━━━━━━━━━━━┳━━━━━━━━━━━━━━━━━━━━━━━━┳━━━━━━━━━━━━━━━┓\n",
       "┃\u001b[1m \u001b[0m\u001b[1mLayer (type)                   \u001b[0m\u001b[1m \u001b[0m┃\u001b[1m \u001b[0m\u001b[1mOutput Shape          \u001b[0m\u001b[1m \u001b[0m┃\u001b[1m \u001b[0m\u001b[1m      Param #\u001b[0m\u001b[1m \u001b[0m┃\n",
       "┡━━━━━━━━━━━━━━━━━━━━━━━━━━━━━━━━━╇━━━━━━━━━━━━━━━━━━━━━━━━╇━━━━━━━━━━━━━━━┩\n",
       "│ embedding (\u001b[38;5;33mEmbedding\u001b[0m)           │ ?                      │   \u001b[38;5;34m0\u001b[0m (unbuilt) │\n",
       "└─────────────────────────────────┴────────────────────────┴───────────────┘\n"
      ]
     },
     "metadata": {},
     "output_type": "display_data"
    },
    {
     "data": {
      "text/html": [
       "<pre style=\"white-space:pre;overflow-x:auto;line-height:normal;font-family:Menlo,'DejaVu Sans Mono',consolas,'Courier New',monospace\"><span style=\"font-weight: bold\"> Total params: </span><span style=\"color: #00af00; text-decoration-color: #00af00\">0</span> (0.00 B)\n",
       "</pre>\n"
      ],
      "text/plain": [
       "\u001b[1m Total params: \u001b[0m\u001b[38;5;34m0\u001b[0m (0.00 B)\n"
      ]
     },
     "metadata": {},
     "output_type": "display_data"
    },
    {
     "data": {
      "text/html": [
       "<pre style=\"white-space:pre;overflow-x:auto;line-height:normal;font-family:Menlo,'DejaVu Sans Mono',consolas,'Courier New',monospace\"><span style=\"font-weight: bold\"> Trainable params: </span><span style=\"color: #00af00; text-decoration-color: #00af00\">0</span> (0.00 B)\n",
       "</pre>\n"
      ],
      "text/plain": [
       "\u001b[1m Trainable params: \u001b[0m\u001b[38;5;34m0\u001b[0m (0.00 B)\n"
      ]
     },
     "metadata": {},
     "output_type": "display_data"
    },
    {
     "data": {
      "text/html": [
       "<pre style=\"white-space:pre;overflow-x:auto;line-height:normal;font-family:Menlo,'DejaVu Sans Mono',consolas,'Courier New',monospace\"><span style=\"font-weight: bold\"> Non-trainable params: </span><span style=\"color: #00af00; text-decoration-color: #00af00\">0</span> (0.00 B)\n",
       "</pre>\n"
      ],
      "text/plain": [
       "\u001b[1m Non-trainable params: \u001b[0m\u001b[38;5;34m0\u001b[0m (0.00 B)\n"
      ]
     },
     "metadata": {},
     "output_type": "display_data"
    }
   ],
   "source": [
    "model.summary()"
   ]
  },
  {
   "cell_type": "code",
   "execution_count": 15,
   "metadata": {},
   "outputs": [
    {
     "name": "stdout",
     "output_type": "stream",
     "text": [
      "\u001b[1m1/1\u001b[0m \u001b[32m━━━━━━━━━━━━━━━━━━━━\u001b[0m\u001b[37m\u001b[0m \u001b[1m1s\u001b[0m 619ms/step\n"
     ]
    },
    {
     "data": {
      "text/plain": [
       "array([[[ 0.04045165, -0.02904396, -0.04928031, -0.02446183,\n",
       "         -0.00082964,  0.0210324 ,  0.01552172, -0.0126893 ,\n",
       "         -0.01879101, -0.02089928],\n",
       "        [ 0.04045165, -0.02904396, -0.04928031, -0.02446183,\n",
       "         -0.00082964,  0.0210324 ,  0.01552172, -0.0126893 ,\n",
       "         -0.01879101, -0.02089928],\n",
       "        [ 0.04045165, -0.02904396, -0.04928031, -0.02446183,\n",
       "         -0.00082964,  0.0210324 ,  0.01552172, -0.0126893 ,\n",
       "         -0.01879101, -0.02089928],\n",
       "        [ 0.02275202,  0.00528067,  0.00542311,  0.0184609 ,\n",
       "         -0.00842058,  0.00240369, -0.04765974,  0.00403808,\n",
       "         -0.03301756, -0.03508883],\n",
       "        [-0.04609231, -0.04180104,  0.04364477,  0.02963917,\n",
       "          0.00191154, -0.0492614 ,  0.03996911, -0.00453543,\n",
       "          0.03741753,  0.02400855],\n",
       "        [-0.03095937,  0.00809027,  0.0468797 ,  0.04524115,\n",
       "          0.03321308,  0.0436801 , -0.02447829,  0.03598532,\n",
       "         -0.00940279,  0.01325843],\n",
       "        [ 0.0451522 , -0.04148864, -0.03851204, -0.02375786,\n",
       "         -0.00248294, -0.0126185 ,  0.00551107,  0.03451165,\n",
       "          0.00506437, -0.00299851],\n",
       "        [ 0.01541341,  0.00484257, -0.0097443 ,  0.00866929,\n",
       "          0.02486247, -0.01908557, -0.04855547, -0.03882062,\n",
       "          0.03020952, -0.01863838]],\n",
       "\n",
       "       [[ 0.04045165, -0.02904396, -0.04928031, -0.02446183,\n",
       "         -0.00082964,  0.0210324 ,  0.01552172, -0.0126893 ,\n",
       "         -0.01879101, -0.02089928],\n",
       "        [ 0.04045165, -0.02904396, -0.04928031, -0.02446183,\n",
       "         -0.00082964,  0.0210324 ,  0.01552172, -0.0126893 ,\n",
       "         -0.01879101, -0.02089928],\n",
       "        [-0.00766715,  0.03508954,  0.02291782, -0.04952847,\n",
       "          0.00995659,  0.01849971, -0.01720285, -0.02884375,\n",
       "         -0.02386255,  0.02356296],\n",
       "        [-0.02040463, -0.03646163, -0.04899216,  0.00148876,\n",
       "         -0.00217394,  0.0390016 , -0.01253179, -0.03624977,\n",
       "          0.03509093, -0.0051265 ],\n",
       "        [-0.01806444,  0.03021667,  0.00216676,  0.03516375,\n",
       "          0.00867485,  0.02080477,  0.0426489 ,  0.03223174,\n",
       "          0.03521541, -0.01943036],\n",
       "        [ 0.02765873,  0.00399114, -0.01387371,  0.04122153,\n",
       "          0.03257633,  0.03381502,  0.04346396, -0.01508804,\n",
       "         -0.0442907 ,  0.02761823],\n",
       "        [ 0.01692147, -0.04052671, -0.01883887,  0.03434357,\n",
       "          0.00974273, -0.02514377, -0.0173812 ,  0.01672843,\n",
       "         -0.02178203,  0.03296644],\n",
       "        [-0.02089589,  0.04325433, -0.01559492,  0.01782651,\n",
       "          0.04406789,  0.04585269,  0.00556771,  0.02799218,\n",
       "          0.00288968, -0.0071437 ]],\n",
       "\n",
       "       [[ 0.04045165, -0.02904396, -0.04928031, -0.02446183,\n",
       "         -0.00082964,  0.0210324 ,  0.01552172, -0.0126893 ,\n",
       "         -0.01879101, -0.02089928],\n",
       "        [ 0.04045165, -0.02904396, -0.04928031, -0.02446183,\n",
       "         -0.00082964,  0.0210324 ,  0.01552172, -0.0126893 ,\n",
       "         -0.01879101, -0.02089928],\n",
       "        [-0.02661052,  0.01314168,  0.0052786 , -0.00228462,\n",
       "          0.03157692, -0.02571825, -0.01126157, -0.00587019,\n",
       "          0.01352708, -0.03256797],\n",
       "        [ 0.03784022,  0.03123176, -0.04168043,  0.00670606,\n",
       "          0.02928572, -0.04652959, -0.02867546,  0.01410711,\n",
       "          0.00676065, -0.02407081],\n",
       "        [ 0.01692147, -0.04052671, -0.01883887,  0.03434357,\n",
       "          0.00974273, -0.02514377, -0.0173812 ,  0.01672843,\n",
       "         -0.02178203,  0.03296644],\n",
       "        [ 0.02417418,  0.00632098, -0.0368525 ,  0.01678947,\n",
       "          0.03349836, -0.0454981 ,  0.00290366,  0.03342876,\n",
       "          0.02798055, -0.04689248],\n",
       "        [-0.03850572,  0.04494614, -0.0165933 ,  0.02121211,\n",
       "         -0.00235426, -0.0467567 , -0.0473768 ,  0.03207311,\n",
       "          0.01087691,  0.04828039],\n",
       "        [-0.01263158,  0.03902907, -0.01215901,  0.01284817,\n",
       "          0.02605459, -0.04356611, -0.00500647, -0.0151073 ,\n",
       "         -0.03063693, -0.00223229]],\n",
       "\n",
       "       [[ 0.04045165, -0.02904396, -0.04928031, -0.02446183,\n",
       "         -0.00082964,  0.0210324 ,  0.01552172, -0.0126893 ,\n",
       "         -0.01879101, -0.02089928],\n",
       "        [ 0.04045165, -0.02904396, -0.04928031, -0.02446183,\n",
       "         -0.00082964,  0.0210324 ,  0.01552172, -0.0126893 ,\n",
       "         -0.01879101, -0.02089928],\n",
       "        [ 0.04045165, -0.02904396, -0.04928031, -0.02446183,\n",
       "         -0.00082964,  0.0210324 ,  0.01552172, -0.0126893 ,\n",
       "         -0.01879101, -0.02089928],\n",
       "        [-0.00576608, -0.03068106, -0.00572376, -0.03489262,\n",
       "          0.04340765,  0.02340522,  0.03145203, -0.04471511,\n",
       "          0.03700662,  0.04913738],\n",
       "        [ 0.01345087,  0.0008386 ,  0.02019772,  0.04343211,\n",
       "          0.03617162,  0.00830724, -0.0150523 , -0.02280481,\n",
       "          0.01714003,  0.01215418],\n",
       "        [ 0.01687201,  0.04195682, -0.01603037, -0.03080934,\n",
       "          0.01085035,  0.03783155,  0.02333752, -0.04325828,\n",
       "         -0.01856992,  0.00506683],\n",
       "        [ 0.04203442,  0.03254471,  0.02898203, -0.04176333,\n",
       "          0.04406923,  0.02258526, -0.03507975,  0.0046736 ,\n",
       "         -0.04510169,  0.04541701],\n",
       "        [-0.03011062, -0.0390731 ,  0.04803807, -0.02210521,\n",
       "          0.01271887,  0.04034868, -0.04927924,  0.03282407,\n",
       "          0.01063882, -0.04924363]],\n",
       "\n",
       "       [[ 0.04045165, -0.02904396, -0.04928031, -0.02446183,\n",
       "         -0.00082964,  0.0210324 ,  0.01552172, -0.0126893 ,\n",
       "         -0.01879101, -0.02089928],\n",
       "        [ 0.04045165, -0.02904396, -0.04928031, -0.02446183,\n",
       "         -0.00082964,  0.0210324 ,  0.01552172, -0.0126893 ,\n",
       "         -0.01879101, -0.02089928],\n",
       "        [ 0.02441318, -0.04737287, -0.00673438,  0.0314058 ,\n",
       "          0.04989216, -0.00743764, -0.01266509, -0.03841798,\n",
       "          0.02258298,  0.0411686 ],\n",
       "        [-0.03605545, -0.04204961,  0.02301586,  0.02330125,\n",
       "         -0.03316351, -0.00056221, -0.00251461, -0.03707368,\n",
       "         -0.02964358, -0.04606343],\n",
       "        [ 0.03767126, -0.04365508, -0.0125169 , -0.02611274,\n",
       "         -0.00217353, -0.03427809, -0.02870033, -0.02757443,\n",
       "          0.04792651, -0.00799643],\n",
       "        [ 0.01692147, -0.04052671, -0.01883887,  0.03434357,\n",
       "          0.00974273, -0.02514377, -0.0173812 ,  0.01672843,\n",
       "         -0.02178203,  0.03296644],\n",
       "        [-0.00276396, -0.03829379, -0.04335314, -0.02355491,\n",
       "          0.01719334, -0.01119653, -0.02938231,  0.03284693,\n",
       "         -0.0453674 , -0.02212362],\n",
       "        [ 0.03661405, -0.0200797 , -0.00446343,  0.04387726,\n",
       "          0.04246565,  0.03607023,  0.02215377, -0.04985042,\n",
       "          0.03485361, -0.03363434]]], dtype=float32)"
      ]
     },
     "execution_count": 15,
     "metadata": {},
     "output_type": "execute_result"
    }
   ],
   "source": [
    "model.predict(embedded_docs)"
   ]
  },
  {
   "cell_type": "code",
   "execution_count": 16,
   "metadata": {},
   "outputs": [
    {
     "data": {
      "text/plain": [
       "array([   0,    0,    0, 3067, 3480, 8550, 1828, 8692])"
      ]
     },
     "execution_count": 16,
     "metadata": {},
     "output_type": "execute_result"
    }
   ],
   "source": [
    "embedded_docs[0]"
   ]
  },
  {
   "cell_type": "code",
   "execution_count": 18,
   "metadata": {},
   "outputs": [
    {
     "name": "stdout",
     "output_type": "stream",
     "text": [
      "\u001b[1m1/1\u001b[0m \u001b[32m━━━━━━━━━━━━━━━━━━━━\u001b[0m\u001b[37m\u001b[0m \u001b[1m0s\u001b[0m 151ms/step\n"
     ]
    },
    {
     "data": {
      "text/plain": [
       "array([[[ 0.04045165, -0.02904396, -0.04928031, -0.02446183,\n",
       "         -0.00082964,  0.0210324 ,  0.01552172, -0.0126893 ,\n",
       "         -0.01879101, -0.02089928],\n",
       "        [ 0.04045165, -0.02904396, -0.04928031, -0.02446183,\n",
       "         -0.00082964,  0.0210324 ,  0.01552172, -0.0126893 ,\n",
       "         -0.01879101, -0.02089928],\n",
       "        [ 0.04045165, -0.02904396, -0.04928031, -0.02446183,\n",
       "         -0.00082964,  0.0210324 ,  0.01552172, -0.0126893 ,\n",
       "         -0.01879101, -0.02089928],\n",
       "        [ 0.02275202,  0.00528067,  0.00542311,  0.0184609 ,\n",
       "         -0.00842058,  0.00240369, -0.04765974,  0.00403808,\n",
       "         -0.03301756, -0.03508883],\n",
       "        [-0.04609231, -0.04180104,  0.04364477,  0.02963917,\n",
       "          0.00191154, -0.0492614 ,  0.03996911, -0.00453543,\n",
       "          0.03741753,  0.02400855],\n",
       "        [-0.03095937,  0.00809027,  0.0468797 ,  0.04524115,\n",
       "          0.03321308,  0.0436801 , -0.02447829,  0.03598532,\n",
       "         -0.00940279,  0.01325843],\n",
       "        [ 0.0451522 , -0.04148864, -0.03851204, -0.02375786,\n",
       "         -0.00248294, -0.0126185 ,  0.00551107,  0.03451165,\n",
       "          0.00506437, -0.00299851],\n",
       "        [ 0.01541341,  0.00484257, -0.0097443 ,  0.00866929,\n",
       "          0.02486247, -0.01908557, -0.04855547, -0.03882062,\n",
       "          0.03020952, -0.01863838]]], dtype=float32)"
      ]
     },
     "execution_count": 18,
     "metadata": {},
     "output_type": "execute_result"
    }
   ],
   "source": [
    "model.predict(np.array([embedded_docs[0]]))"
   ]
  },
  {
   "cell_type": "code",
   "execution_count": null,
   "metadata": {},
   "outputs": [],
   "source": []
  }
 ],
 "metadata": {
  "kernelspec": {
   "display_name": "Python 3",
   "language": "python",
   "name": "python3"
  },
  "language_info": {
   "codemirror_mode": {
    "name": "ipython",
    "version": 3
   },
   "file_extension": ".py",
   "mimetype": "text/x-python",
   "name": "python",
   "nbconvert_exporter": "python",
   "pygments_lexer": "ipython3",
   "version": "3.11.0"
  }
 },
 "nbformat": 4,
 "nbformat_minor": 2
}
